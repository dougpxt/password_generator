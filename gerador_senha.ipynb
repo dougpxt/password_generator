{
 "cells": [
  {
   "cell_type": "code",
   "execution_count": null,
   "metadata": {},
   "outputs": [],
   "source": [
    "# GERADOR DE SENHAS P/ ARQUIVO TXT---------------------------------------------------------------------------------------------------------------------\n",
    "import random\n",
    "import string\n",
    "import datetime\n",
    "import os\n",
    "# \n",
    "caracteres = string.ascii_uppercase + string.ascii_lowercase + string.digits\n",
    "# \n",
    "print('GERADOR DE SENHAS P/ ARQUIVO TXT')\n",
    "print('-'*50)\n",
    "# \n",
    "def gerador():\n",
    "    with open ('senha.txt', 'a') as arquivo:\n",
    "        while True:\n",
    "            try:\n",
    "                caracteres = input('SERÃO UTILIZADOS CARACTERES ESPÉCIAIS? (RESP. DISPONÍVEIS: SIM, NAO)') # coleta de info. p/ gerador de senhas\n",
    "                if caracteres == 'sim': caracteres_definidos = string.ascii_uppercase + string.ascii_lowercase + string.digits + string.punctuation\n",
    "                elif caracteres == 'nao': caracteres_definidos = string.ascii_uppercase + string.ascii_lowercase + string.digits\n",
    "                else: # usuario não escolheu respostas disponíveis (reaproveita 'if e elif' anteriormente definidos)\n",
    "                    caracteres = input('escolha entre \"sim\" e \"nao\" em letras minúsculas e sem acento')\n",
    "                    if caracteres == 'sim': caracteres_definidos = string.ascii_uppercase + string.ascii_lowercase + string.digits + string.punctuation\n",
    "                    elif caracteres == 'nao': caracteres_definidos = string.ascii_uppercase + string.ascii_lowercase + string.digits\n",
    "                # \n",
    "                tamanho_senha = input('DEFINA O TAMANHO DA QUANT. DE CARACTERES DESEJADO EM SUA SENHA')\n",
    "                if tamanho_senha == '': raise KeyboardInterrupt # usuario apertou 'esc' ou 'enter' sem nenhuma info.\n",
    "                elif caracteres == '': raise KeyboardInterrupt # usuario apertou 'esc' ou 'enter' sem nenhuma info.\n",
    "                # \n",
    "                senha = ''.join(random.choices(caracteres_definidos, k = int(tamanho_senha)))\n",
    "                print(f'Senha gerada: {senha} \\n' + '-'*50)\n",
    "                # \n",
    "                arquivo.write(senha + '\\n') # escreve novas senhas em arquivo\n",
    "                pass\n",
    "            except KeyboardInterrupt: #usuario deseja encerrar geração de senhas\n",
    "                print('PROGRAMA ENCERRADO' + '\\n' + '-'*50 + '\\n' + '-'*50)\n",
    "                break\n",
    "\n",
    "# gerando arquivo txt e iniciando programa-------------------------------------------------------------------------------------------------------------\n",
    "with open ('senha.txt', 'a') as arquivo:\n",
    "    now = datetime.datetime.now()\n",
    "    string_horario = now.strftime('%d/%m/%Y | %H:%M') \n",
    "    if os.stat('senha.txt').st_size > 0: # identifica se arquivo já está escrito, desta forma pula uma linha para melhor formatação\n",
    "        arquivo.write('\\n')\n",
    "    arquivo.write(f'SENHAS GERADAS POR \"gerador_senha.ipynb\" em {string_horario}' + '-'*50 + '\\n') # formata um título p/ introdução à nova seção de senhas \n",
    "# \n",
    "gerador()"
   ]
  }
 ],
 "metadata": {
  "kernelspec": {
   "display_name": "Python 3",
   "language": "python",
   "name": "python3"
  },
  "language_info": {
   "codemirror_mode": {
    "name": "ipython",
    "version": 3
   },
   "file_extension": ".py",
   "mimetype": "text/x-python",
   "name": "python",
   "nbconvert_exporter": "python",
   "pygments_lexer": "ipython3",
   "version": "3.10.6"
  },
  "orig_nbformat": 4
 },
 "nbformat": 4,
 "nbformat_minor": 2
}
